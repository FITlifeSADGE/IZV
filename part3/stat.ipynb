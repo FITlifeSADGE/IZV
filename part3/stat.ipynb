{
 "cells": [
  {
   "attachments": {},
   "cell_type": "markdown",
   "metadata": {},
   "source": [
    "# IZV part3: Úkol 2: Test hypotézy\n",
    "# Autor: Lukáš Kaprál (xkapra00)\n",
    "Ověřovat s 95% jistotou následující dvě hypotézy\n",
    "## Hypotéza 1:\n",
    "**Na silnicích první třídy se při nehodách umíralo se stejnou pravděpodobností jako na\n",
    "silnicích třetí třídy**"
   ]
  },
  {
   "attachments": {},
   "cell_type": "markdown",
   "metadata": {},
   "source": [
    "Import knihoven"
   ]
  },
  {
   "cell_type": "code",
   "execution_count": 1,
   "metadata": {},
   "outputs": [],
   "source": [
    "import pandas as pd\n",
    "import scipy as sp"
   ]
  },
  {
   "attachments": {},
   "cell_type": "markdown",
   "metadata": {},
   "source": [
    "Načteme dataframe s nehodami"
   ]
  },
  {
   "cell_type": "code",
   "execution_count": null,
   "metadata": {},
   "outputs": [],
   "source": [
    "df = pd.read_pickle('accidents.pkl.gz')\n",
    "df"
   ]
  },
  {
   "attachments": {},
   "cell_type": "markdown",
   "metadata": {},
   "source": [
    "Vyfiltrujeme pouze nehody na silnicích 1. a 3. třídy"
   ]
  },
  {
   "cell_type": "code",
   "execution_count": null,
   "metadata": {},
   "outputs": [],
   "source": [
    "df = df[df[\"p36\"].isin([1, 3])]\n",
    "df"
   ]
  },
  {
   "attachments": {},
   "cell_type": "markdown",
   "metadata": {},
   "source": [
    "Vytvoříme nový sloupec, kam uložíme True/False podle toho, zda při nehodě někdo umřel"
   ]
  },
  {
   "cell_type": "code",
   "execution_count": null,
   "metadata": {},
   "outputs": [],
   "source": [
    "df[\"died\"] = df[\"p13a\"] > 0\n",
    "df"
   ]
  },
  {
   "attachments": {},
   "cell_type": "markdown",
   "metadata": {},
   "source": [
    "Tvorba crosstab"
   ]
  },
  {
   "cell_type": "code",
   "execution_count": 5,
   "metadata": {},
   "outputs": [
    {
     "data": {
      "text/html": [
       "<div>\n",
       "<style scoped>\n",
       "    .dataframe tbody tr th:only-of-type {\n",
       "        vertical-align: middle;\n",
       "    }\n",
       "\n",
       "    .dataframe tbody tr th {\n",
       "        vertical-align: top;\n",
       "    }\n",
       "\n",
       "    .dataframe thead th {\n",
       "        text-align: right;\n",
       "    }\n",
       "</style>\n",
       "<table border=\"1\" class=\"dataframe\">\n",
       "  <thead>\n",
       "    <tr style=\"text-align: right;\">\n",
       "      <th>died</th>\n",
       "      <th>False</th>\n",
       "      <th>True</th>\n",
       "    </tr>\n",
       "    <tr>\n",
       "      <th>p36</th>\n",
       "      <th></th>\n",
       "      <th></th>\n",
       "    </tr>\n",
       "  </thead>\n",
       "  <tbody>\n",
       "    <tr>\n",
       "      <th>1</th>\n",
       "      <td>78618</td>\n",
       "      <td>911</td>\n",
       "    </tr>\n",
       "    <tr>\n",
       "      <th>3</th>\n",
       "      <td>73352</td>\n",
       "      <td>448</td>\n",
       "    </tr>\n",
       "  </tbody>\n",
       "</table>\n",
       "</div>"
      ],
      "text/plain": [
       "died  False  True \n",
       "p36               \n",
       "1     78618    911\n",
       "3     73352    448"
      ]
     },
     "execution_count": 5,
     "metadata": {},
     "output_type": "execute_result"
    }
   ],
   "source": [
    "ct = pd.crosstab(df[\"p36\"], df[\"died\"])\n",
    "ct"
   ]
  },
  {
   "attachments": {},
   "cell_type": "markdown",
   "metadata": {},
   "source": [
    "Spočítáme 𝜒2"
   ]
  },
  {
   "cell_type": "code",
   "execution_count": 6,
   "metadata": {},
   "outputs": [
    {
     "data": {
      "text/plain": [
       "3.5395243450138555e-29"
      ]
     },
     "execution_count": 6,
     "metadata": {},
     "output_type": "execute_result"
    }
   ],
   "source": [
    "sp.stats.chi2_contingency(ct)[1]"
   ]
  },
  {
   "attachments": {},
   "cell_type": "markdown",
   "metadata": {},
   "source": [
    "Výsledná hodnota 3.54*10<sup>-29</sup> je menší, než 0.05. Hypotéza tedy neplatí "
   ]
  },
  {
   "attachments": {},
   "cell_type": "markdown",
   "metadata": {},
   "source": [
    "## Hypotéza 1:\n",
    "**Při nehodách vozidel značky Škoda je škoda na vozidle nižší než při nehodách vozidel Audi**"
   ]
  },
  {
   "attachments": {},
   "cell_type": "markdown",
   "metadata": {},
   "source": [
    "Vyfiltrujeme pouze vozidla značky Škoda a Audi (p45a 2=AUDI, 39=ŠKODA)"
   ]
  },
  {
   "cell_type": "code",
   "execution_count": 7,
   "metadata": {},
   "outputs": [
    {
     "data": {
      "text/html": [
       "<div>\n",
       "<style scoped>\n",
       "    .dataframe tbody tr th:only-of-type {\n",
       "        vertical-align: middle;\n",
       "    }\n",
       "\n",
       "    .dataframe tbody tr th {\n",
       "        vertical-align: top;\n",
       "    }\n",
       "\n",
       "    .dataframe thead th {\n",
       "        text-align: right;\n",
       "    }\n",
       "</style>\n",
       "<table border=\"1\" class=\"dataframe\">\n",
       "  <thead>\n",
       "    <tr style=\"text-align: right;\">\n",
       "      <th></th>\n",
       "      <th>p1</th>\n",
       "      <th>p36</th>\n",
       "      <th>p37</th>\n",
       "      <th>p2a</th>\n",
       "      <th>weekday(p2a)</th>\n",
       "      <th>p2b</th>\n",
       "      <th>p6</th>\n",
       "      <th>p7</th>\n",
       "      <th>p8</th>\n",
       "      <th>p9</th>\n",
       "      <th>...</th>\n",
       "      <th>n</th>\n",
       "      <th>o</th>\n",
       "      <th>p</th>\n",
       "      <th>q</th>\n",
       "      <th>r</th>\n",
       "      <th>s</th>\n",
       "      <th>t</th>\n",
       "      <th>p5a</th>\n",
       "      <th>region</th>\n",
       "      <th>died</th>\n",
       "    </tr>\n",
       "  </thead>\n",
       "  <tbody>\n",
       "    <tr>\n",
       "      <th>10530</th>\n",
       "      <td>003100160575</td>\n",
       "      <td>1</td>\n",
       "      <td>102</td>\n",
       "      <td>2016-06-19</td>\n",
       "      <td>0</td>\n",
       "      <td>1905</td>\n",
       "      <td>1</td>\n",
       "      <td>2</td>\n",
       "      <td>0</td>\n",
       "      <td>2</td>\n",
       "      <td>...</td>\n",
       "      <td>312370</td>\n",
       "      <td></td>\n",
       "      <td>Souhlasnýsesměremúseku</td>\n",
       "      <td>Pomalý</td>\n",
       "      <td>554782</td>\n",
       "      <td>481548</td>\n",
       "      <td>GN_V0.1UIR-ADR_410</td>\n",
       "      <td>1</td>\n",
       "      <td>PHA</td>\n",
       "      <td>False</td>\n",
       "    </tr>\n",
       "    <tr>\n",
       "      <th>50445</th>\n",
       "      <td>002100184560</td>\n",
       "      <td>1</td>\n",
       "      <td>-1</td>\n",
       "      <td>2018-03-20</td>\n",
       "      <td>2</td>\n",
       "      <td>1100</td>\n",
       "      <td>1</td>\n",
       "      <td>2</td>\n",
       "      <td>0</td>\n",
       "      <td>2</td>\n",
       "      <td>...</td>\n",
       "      <td>2775387</td>\n",
       "      <td></td>\n",
       "      <td>Souhlasnýsesměremúseku</td>\n",
       "      <td>Pomalý</td>\n",
       "      <td>554782</td>\n",
       "      <td>467359</td>\n",
       "      <td>GN_V0.1UIR-ADR_410</td>\n",
       "      <td>1</td>\n",
       "      <td>PHA</td>\n",
       "      <td>False</td>\n",
       "    </tr>\n",
       "    <tr>\n",
       "      <th>117991</th>\n",
       "      <td>002100162546</td>\n",
       "      <td>1</td>\n",
       "      <td>0</td>\n",
       "      <td>2016-02-16</td>\n",
       "      <td>2</td>\n",
       "      <td>1110</td>\n",
       "      <td>1</td>\n",
       "      <td>2</td>\n",
       "      <td>0</td>\n",
       "      <td>2</td>\n",
       "      <td>...</td>\n",
       "      <td>1871811</td>\n",
       "      <td></td>\n",
       "      <td>Souhlasnýsesměremúseku</td>\n",
       "      <td>Pomalý</td>\n",
       "      <td>554782</td>\n",
       "      <td>709450</td>\n",
       "      <td>GN_V0.1UIR-ADR_410</td>\n",
       "      <td>2</td>\n",
       "      <td>STC</td>\n",
       "      <td>False</td>\n",
       "    </tr>\n",
       "    <tr>\n",
       "      <th>117994</th>\n",
       "      <td>002100162631</td>\n",
       "      <td>1</td>\n",
       "      <td>0</td>\n",
       "      <td>2016-02-17</td>\n",
       "      <td>3</td>\n",
       "      <td>1010</td>\n",
       "      <td>1</td>\n",
       "      <td>4</td>\n",
       "      <td>0</td>\n",
       "      <td>2</td>\n",
       "      <td>...</td>\n",
       "      <td></td>\n",
       "      <td></td>\n",
       "      <td></td>\n",
       "      <td></td>\n",
       "      <td>-1</td>\n",
       "      <td>-1</td>\n",
       "      <td></td>\n",
       "      <td>2</td>\n",
       "      <td>STC</td>\n",
       "      <td>False</td>\n",
       "    </tr>\n",
       "    <tr>\n",
       "      <th>119398</th>\n",
       "      <td>010106160002</td>\n",
       "      <td>3</td>\n",
       "      <td>1256</td>\n",
       "      <td>2016-01-04</td>\n",
       "      <td>1</td>\n",
       "      <td>2005</td>\n",
       "      <td>3</td>\n",
       "      <td>0</td>\n",
       "      <td>6</td>\n",
       "      <td>2</td>\n",
       "      <td>...</td>\n",
       "      <td>1013486</td>\n",
       "      <td></td>\n",
       "      <td>Souhlasnýsesměremúseku</td>\n",
       "      <td>Pomalý</td>\n",
       "      <td>529931</td>\n",
       "      <td>-1</td>\n",
       "      <td>GN_V0.1UIR-ADR_410</td>\n",
       "      <td>2</td>\n",
       "      <td>STC</td>\n",
       "      <td>False</td>\n",
       "    </tr>\n",
       "    <tr>\n",
       "      <th>...</th>\n",
       "      <td>...</td>\n",
       "      <td>...</td>\n",
       "      <td>...</td>\n",
       "      <td>...</td>\n",
       "      <td>...</td>\n",
       "      <td>...</td>\n",
       "      <td>...</td>\n",
       "      <td>...</td>\n",
       "      <td>...</td>\n",
       "      <td>...</td>\n",
       "      <td>...</td>\n",
       "      <td>...</td>\n",
       "      <td>...</td>\n",
       "      <td>...</td>\n",
       "      <td>...</td>\n",
       "      <td>...</td>\n",
       "      <td>...</td>\n",
       "      <td>...</td>\n",
       "      <td>...</td>\n",
       "      <td>...</td>\n",
       "      <td>...</td>\n",
       "    </tr>\n",
       "    <tr>\n",
       "      <th>572838</th>\n",
       "      <td>190906210366</td>\n",
       "      <td>3</td>\n",
       "      <td>2099</td>\n",
       "      <td>2021-07-15</td>\n",
       "      <td>4</td>\n",
       "      <td>1932</td>\n",
       "      <td>3</td>\n",
       "      <td>0</td>\n",
       "      <td>9</td>\n",
       "      <td>2</td>\n",
       "      <td>...</td>\n",
       "      <td>798308</td>\n",
       "      <td></td>\n",
       "      <td>Souhlasnýsesměremúseku</td>\n",
       "      <td>Pomalý</td>\n",
       "      <td>560537</td>\n",
       "      <td>552526</td>\n",
       "      <td>GN_V0.1UIR-ADR_410</td>\n",
       "      <td>1</td>\n",
       "      <td>KVK</td>\n",
       "      <td>False</td>\n",
       "    </tr>\n",
       "    <tr>\n",
       "      <th>572845</th>\n",
       "      <td>190906210373</td>\n",
       "      <td>3</td>\n",
       "      <td>2099</td>\n",
       "      <td>2021-07-19</td>\n",
       "      <td>1</td>\n",
       "      <td>913</td>\n",
       "      <td>1</td>\n",
       "      <td>2</td>\n",
       "      <td>0</td>\n",
       "      <td>2</td>\n",
       "      <td>...</td>\n",
       "      <td>3089393</td>\n",
       "      <td></td>\n",
       "      <td>Souhlasnýsesměremúseku</td>\n",
       "      <td>Pomalý</td>\n",
       "      <td>560642</td>\n",
       "      <td>-1</td>\n",
       "      <td>GN_V0.1UIR-ADR_410</td>\n",
       "      <td>2</td>\n",
       "      <td>KVK</td>\n",
       "      <td>False</td>\n",
       "    </tr>\n",
       "    <tr>\n",
       "      <th>572868</th>\n",
       "      <td>190906210396</td>\n",
       "      <td>3</td>\n",
       "      <td>21036</td>\n",
       "      <td>2021-08-02</td>\n",
       "      <td>1</td>\n",
       "      <td>1605</td>\n",
       "      <td>3</td>\n",
       "      <td>0</td>\n",
       "      <td>4</td>\n",
       "      <td>2</td>\n",
       "      <td>...</td>\n",
       "      <td>1425538</td>\n",
       "      <td></td>\n",
       "      <td>Souhlasnýsesměremúseku</td>\n",
       "      <td>Pomalý</td>\n",
       "      <td>560588</td>\n",
       "      <td>-1</td>\n",
       "      <td>GN_V0.1UIR-ADR_410</td>\n",
       "      <td>2</td>\n",
       "      <td>KVK</td>\n",
       "      <td>False</td>\n",
       "    </tr>\n",
       "    <tr>\n",
       "      <th>572888</th>\n",
       "      <td>190906210416</td>\n",
       "      <td>3</td>\n",
       "      <td>2099</td>\n",
       "      <td>2021-08-02</td>\n",
       "      <td>1</td>\n",
       "      <td>1520</td>\n",
       "      <td>2</td>\n",
       "      <td>0</td>\n",
       "      <td>0</td>\n",
       "      <td>2</td>\n",
       "      <td>...</td>\n",
       "      <td>199919</td>\n",
       "      <td></td>\n",
       "      <td>Souhlasnýsesměremúseku</td>\n",
       "      <td>Pomalý</td>\n",
       "      <td>560286</td>\n",
       "      <td>553654</td>\n",
       "      <td>GN_V0.1UIR-ADR_410</td>\n",
       "      <td>1</td>\n",
       "      <td>KVK</td>\n",
       "      <td>False</td>\n",
       "    </tr>\n",
       "    <tr>\n",
       "      <th>572931</th>\n",
       "      <td>190906210459</td>\n",
       "      <td>3</td>\n",
       "      <td>2099</td>\n",
       "      <td>2021-08-30</td>\n",
       "      <td>1</td>\n",
       "      <td>1505</td>\n",
       "      <td>1</td>\n",
       "      <td>3</td>\n",
       "      <td>0</td>\n",
       "      <td>2</td>\n",
       "      <td>...</td>\n",
       "      <td></td>\n",
       "      <td></td>\n",
       "      <td></td>\n",
       "      <td></td>\n",
       "      <td>-1</td>\n",
       "      <td>-1</td>\n",
       "      <td></td>\n",
       "      <td>1</td>\n",
       "      <td>KVK</td>\n",
       "      <td>False</td>\n",
       "    </tr>\n",
       "  </tbody>\n",
       "</table>\n",
       "<p>41175 rows × 66 columns</p>\n",
       "</div>"
      ],
      "text/plain": [
       "                  p1  p36    p37         p2a  weekday(p2a)   p2b  p6  p7  p8  \\\n",
       "10530   003100160575    1    102  2016-06-19             0  1905   1   2   0   \n",
       "50445   002100184560    1     -1  2018-03-20             2  1100   1   2   0   \n",
       "117991  002100162546    1      0  2016-02-16             2  1110   1   2   0   \n",
       "117994  002100162631    1      0  2016-02-17             3  1010   1   4   0   \n",
       "119398  010106160002    3   1256  2016-01-04             1  2005   3   0   6   \n",
       "...              ...  ...    ...         ...           ...   ...  ..  ..  ..   \n",
       "572838  190906210366    3   2099  2021-07-15             4  1932   3   0   9   \n",
       "572845  190906210373    3   2099  2021-07-19             1   913   1   2   0   \n",
       "572868  190906210396    3  21036  2021-08-02             1  1605   3   0   4   \n",
       "572888  190906210416    3   2099  2021-08-02             1  1520   2   0   0   \n",
       "572931  190906210459    3   2099  2021-08-30             1  1505   1   3   0   \n",
       "\n",
       "        p9  ...        n  o                       p       q       r       s  \\\n",
       "10530    2  ...   312370     Souhlasnýsesměremúseku  Pomalý  554782  481548   \n",
       "50445    2  ...  2775387     Souhlasnýsesměremúseku  Pomalý  554782  467359   \n",
       "117991   2  ...  1871811     Souhlasnýsesměremúseku  Pomalý  554782  709450   \n",
       "117994   2  ...                                                  -1      -1   \n",
       "119398   2  ...  1013486     Souhlasnýsesměremúseku  Pomalý  529931      -1   \n",
       "...     ..  ...      ... ..                     ...     ...     ...     ...   \n",
       "572838   2  ...   798308     Souhlasnýsesměremúseku  Pomalý  560537  552526   \n",
       "572845   2  ...  3089393     Souhlasnýsesměremúseku  Pomalý  560642      -1   \n",
       "572868   2  ...  1425538     Souhlasnýsesměremúseku  Pomalý  560588      -1   \n",
       "572888   2  ...   199919     Souhlasnýsesměremúseku  Pomalý  560286  553654   \n",
       "572931   2  ...                                                  -1      -1   \n",
       "\n",
       "                         t  p5a  region   died  \n",
       "10530   GN_V0.1UIR-ADR_410    1     PHA  False  \n",
       "50445   GN_V0.1UIR-ADR_410    1     PHA  False  \n",
       "117991  GN_V0.1UIR-ADR_410    2     STC  False  \n",
       "117994                        2     STC  False  \n",
       "119398  GN_V0.1UIR-ADR_410    2     STC  False  \n",
       "...                    ...  ...     ...    ...  \n",
       "572838  GN_V0.1UIR-ADR_410    1     KVK  False  \n",
       "572845  GN_V0.1UIR-ADR_410    2     KVK  False  \n",
       "572868  GN_V0.1UIR-ADR_410    2     KVK  False  \n",
       "572888  GN_V0.1UIR-ADR_410    1     KVK  False  \n",
       "572931                        1     KVK  False  \n",
       "\n",
       "[41175 rows x 66 columns]"
      ]
     },
     "execution_count": 7,
     "metadata": {},
     "output_type": "execute_result"
    }
   ],
   "source": [
    "df = df[df[\"p45a\"].isin([2, 39])]\n",
    "df"
   ]
  },
  {
   "attachments": {},
   "cell_type": "markdown",
   "metadata": {},
   "source": [
    "Tvorba crosstab, p53 = škoda na vozidle ve stokorunách"
   ]
  },
  {
   "cell_type": "code",
   "execution_count": 8,
   "metadata": {},
   "outputs": [
    {
     "data": {
      "text/html": [
       "<div>\n",
       "<style scoped>\n",
       "    .dataframe tbody tr th:only-of-type {\n",
       "        vertical-align: middle;\n",
       "    }\n",
       "\n",
       "    .dataframe tbody tr th {\n",
       "        vertical-align: top;\n",
       "    }\n",
       "\n",
       "    .dataframe thead th {\n",
       "        text-align: right;\n",
       "    }\n",
       "</style>\n",
       "<table border=\"1\" class=\"dataframe\">\n",
       "  <thead>\n",
       "    <tr style=\"text-align: right;\">\n",
       "      <th></th>\n",
       "      <th>p53</th>\n",
       "    </tr>\n",
       "    <tr>\n",
       "      <th>p45a</th>\n",
       "      <th></th>\n",
       "    </tr>\n",
       "  </thead>\n",
       "  <tbody>\n",
       "    <tr>\n",
       "      <th>2</th>\n",
       "      <td>400.0</td>\n",
       "    </tr>\n",
       "    <tr>\n",
       "      <th>39</th>\n",
       "      <td>300.0</td>\n",
       "    </tr>\n",
       "  </tbody>\n",
       "</table>\n",
       "</div>"
      ],
      "text/plain": [
       "        p53\n",
       "p45a       \n",
       "2     400.0\n",
       "39    300.0"
      ]
     },
     "execution_count": 8,
     "metadata": {},
     "output_type": "execute_result"
    }
   ],
   "source": [
    "#ct = pd.crosstab(df[\"p53\"], df[\"p45a\"])\n",
    "#ct\n",
    "df_meds = df.groupby(\"p45a\").agg({\"p53\": \"median\"})\n",
    "df_meds"
   ]
  },
  {
   "attachments": {},
   "cell_type": "markdown",
   "metadata": {},
   "source": [
    "Vytvoříme df2 s multiindexem pro rychlejší indexování"
   ]
  },
  {
   "cell_type": "code",
   "execution_count": 24,
   "metadata": {},
   "outputs": [
    {
     "data": {
      "text/html": [
       "<div>\n",
       "<style scoped>\n",
       "    .dataframe tbody tr th:only-of-type {\n",
       "        vertical-align: middle;\n",
       "    }\n",
       "\n",
       "    .dataframe tbody tr th {\n",
       "        vertical-align: top;\n",
       "    }\n",
       "\n",
       "    .dataframe thead th {\n",
       "        text-align: right;\n",
       "    }\n",
       "</style>\n",
       "<table border=\"1\" class=\"dataframe\">\n",
       "  <thead>\n",
       "    <tr style=\"text-align: right;\">\n",
       "      <th></th>\n",
       "      <th>p53</th>\n",
       "    </tr>\n",
       "    <tr>\n",
       "      <th>p45a</th>\n",
       "      <th></th>\n",
       "    </tr>\n",
       "  </thead>\n",
       "  <tbody>\n",
       "    <tr>\n",
       "      <th>39</th>\n",
       "      <td>500</td>\n",
       "    </tr>\n",
       "    <tr>\n",
       "      <th>39</th>\n",
       "      <td>0</td>\n",
       "    </tr>\n",
       "    <tr>\n",
       "      <th>39</th>\n",
       "      <td>700</td>\n",
       "    </tr>\n",
       "    <tr>\n",
       "      <th>39</th>\n",
       "      <td>500</td>\n",
       "    </tr>\n",
       "    <tr>\n",
       "      <th>39</th>\n",
       "      <td>2000</td>\n",
       "    </tr>\n",
       "    <tr>\n",
       "      <th>...</th>\n",
       "      <td>...</td>\n",
       "    </tr>\n",
       "    <tr>\n",
       "      <th>39</th>\n",
       "      <td>30</td>\n",
       "    </tr>\n",
       "    <tr>\n",
       "      <th>39</th>\n",
       "      <td>10</td>\n",
       "    </tr>\n",
       "    <tr>\n",
       "      <th>39</th>\n",
       "      <td>150</td>\n",
       "    </tr>\n",
       "    <tr>\n",
       "      <th>39</th>\n",
       "      <td>0</td>\n",
       "    </tr>\n",
       "    <tr>\n",
       "      <th>2</th>\n",
       "      <td>50</td>\n",
       "    </tr>\n",
       "  </tbody>\n",
       "</table>\n",
       "<p>41175 rows × 1 columns</p>\n",
       "</div>"
      ],
      "text/plain": [
       "       p53\n",
       "p45a      \n",
       "39     500\n",
       "39       0\n",
       "39     700\n",
       "39     500\n",
       "39    2000\n",
       "...    ...\n",
       "39      30\n",
       "39      10\n",
       "39     150\n",
       "39       0\n",
       "2       50\n",
       "\n",
       "[41175 rows x 1 columns]"
      ]
     },
     "execution_count": 24,
     "metadata": {},
     "output_type": "execute_result"
    }
   ],
   "source": [
    "df2 = df.set_index([\"p45a\"])\n",
    "df2 = df2.loc[:, df2.columns.intersection(['p45a', 'p53'])]\n",
    "df2\n"
   ]
  },
  {
   "attachments": {},
   "cell_type": "markdown",
   "metadata": {},
   "source": [
    "Spočítáme porovnání dvou konfigurací. Porovnáme mediány a spočítáme výsledek MW U-testu"
   ]
  },
  {
   "cell_type": "code",
   "execution_count": 25,
   "metadata": {},
   "outputs": [
    {
     "name": "stdout",
     "output_type": "stream",
     "text": [
      "300.0 400.0\n"
     ]
    },
    {
     "data": {
      "text/plain": [
       "MannwhitneyuResult(statistic=54545609.5, pvalue=3.0284875285142655e-55)"
      ]
     },
     "execution_count": 25,
     "metadata": {},
     "output_type": "execute_result"
    }
   ],
   "source": [
    "a = df2.loc[39, \"p53\"]\n",
    "b = df2.loc[2, \"p53\"]\n",
    "\n",
    "print(a.median(), b.median())\n",
    "sp.stats.mannwhitneyu(a,b)"
   ]
  },
  {
   "attachments": {},
   "cell_type": "markdown",
   "metadata": {},
   "source": [
    "Výsledek nám říká, že škody na vozidlech značky Škoda a Audi jsou podobné. Přestože je medián hodnot lepší pro značku Škoda, __nemůžeme říct, že by cena nehody na této značce aut byla nižší__."
   ]
  }
 ],
 "metadata": {
  "kernelspec": {
   "display_name": "Python 3",
   "language": "python",
   "name": "python3"
  },
  "language_info": {
   "codemirror_mode": {
    "name": "ipython",
    "version": 3
   },
   "file_extension": ".py",
   "mimetype": "text/x-python",
   "name": "python",
   "nbconvert_exporter": "python",
   "pygments_lexer": "ipython3",
   "version": "3.10.8"
  },
  "orig_nbformat": 4,
  "vscode": {
   "interpreter": {
    "hash": "97cc609b13305c559618ec78a438abc56230b9381f827f22d070313b9a1f3777"
   }
  }
 },
 "nbformat": 4,
 "nbformat_minor": 2
}
